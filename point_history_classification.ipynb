{
 "cells": [
  {
   "cell_type": "code",
   "execution_count": 1,
   "metadata": {},
   "outputs": [],
   "source": [
    "import csv\n",
    "\n",
    "import numpy as np\n",
    "import tensorflow as tf\n",
    "from sklearn.model_selection import train_test_split\n",
    "\n",
    "RANDOM_SEED = 42"
   ]
  },
  {
   "cell_type": "markdown",
   "metadata": {},
   "source": [
    "# 各パス指定"
   ]
  },
  {
   "cell_type": "code",
   "execution_count": 4,
   "metadata": {},
   "outputs": [],
   "source": [
    "dataset = 'model/point_history_classifier/point_history.csv'\n",
    "model_save_path = 'model/point_history_classifier/point_history_classifier.hdf5'"
   ]
  },
  {
   "cell_type": "markdown",
   "metadata": {},
   "source": [
    "# 分類数設定"
   ]
  },
  {
   "cell_type": "code",
   "execution_count": 5,
   "metadata": {},
   "outputs": [],
   "source": [
    "NUM_CLASSES = 4"
   ]
  },
  {
   "cell_type": "markdown",
   "metadata": {},
   "source": [
    "# 入力長"
   ]
  },
  {
   "cell_type": "code",
   "execution_count": 6,
   "metadata": {},
   "outputs": [],
   "source": [
    "TIME_STEPS = 16\n",
    "DIMENSION = 2"
   ]
  },
  {
   "cell_type": "markdown",
   "metadata": {},
   "source": [
    "# 学習データ読み込み"
   ]
  },
  {
   "cell_type": "code",
   "execution_count": 7,
   "metadata": {},
   "outputs": [],
   "source": [
    "X_dataset = np.loadtxt(dataset, delimiter=',', dtype='float32', usecols=list(range(1, (TIME_STEPS * DIMENSION) + 1)))"
   ]
  },
  {
   "cell_type": "code",
   "execution_count": 8,
   "metadata": {},
   "outputs": [],
   "source": [
    "y_dataset = np.loadtxt(dataset, delimiter=',', dtype='int32', usecols=(0))"
   ]
  },
  {
   "cell_type": "code",
   "execution_count": 9,
   "metadata": {},
   "outputs": [],
   "source": [
    "X_train, X_test, y_train, y_test = train_test_split(X_dataset, y_dataset, train_size=0.75, random_state=RANDOM_SEED)"
   ]
  },
  {
   "cell_type": "markdown",
   "metadata": {},
   "source": [
    "# モデル構築"
   ]
  },
  {
   "cell_type": "code",
   "execution_count": 10,
   "metadata": {},
   "outputs": [],
   "source": [
    "use_lstm = False\n",
    "model = None\n",
    "\n",
    "if use_lstm:\n",
    "    model = tf.keras.models.Sequential([\n",
    "        tf.keras.layers.InputLayer(input_shape=(TIME_STEPS * DIMENSION, )),\n",
    "        tf.keras.layers.Reshape((TIME_STEPS, DIMENSION), input_shape=(TIME_STEPS * DIMENSION, )), \n",
    "        tf.keras.layers.Dropout(0.2),\n",
    "        tf.keras.layers.LSTM(16, input_shape=[TIME_STEPS, DIMENSION]),\n",
    "        tf.keras.layers.Dropout(0.5),\n",
    "        tf.keras.layers.Dense(10, activation='relu'),\n",
    "        tf.keras.layers.Dense(NUM_CLASSES, activation='softmax')\n",
    "    ])\n",
    "else:\n",
    "    model = tf.keras.models.Sequential([\n",
    "        tf.keras.layers.InputLayer(input_shape=(TIME_STEPS * DIMENSION, )),\n",
    "        tf.keras.layers.Dropout(0.2),\n",
    "        tf.keras.layers.Dense(24, activation='relu'),\n",
    "        tf.keras.layers.Dropout(0.5),\n",
    "        tf.keras.layers.Dense(10, activation='relu'),\n",
    "        tf.keras.layers.Dense(NUM_CLASSES, activation='softmax')\n",
    "    ])"
   ]
  },
  {
   "cell_type": "code",
   "execution_count": 11,
   "metadata": {},
   "outputs": [
    {
     "name": "stdout",
     "output_type": "stream",
     "text": [
      "Model: \"sequential\"\n",
      "_________________________________________________________________\n",
      " Layer (type)                Output Shape              Param #   \n",
      "=================================================================\n",
      " dropout (Dropout)           (None, 32)                0         \n",
      "                                                                 \n",
      " dense (Dense)               (None, 24)                792       \n",
      "                                                                 \n",
      " dropout_1 (Dropout)         (None, 24)                0         \n",
      "                                                                 \n",
      " dense_1 (Dense)             (None, 10)                250       \n",
      "                                                                 \n",
      " dense_2 (Dense)             (None, 4)                 44        \n",
      "                                                                 \n",
      "=================================================================\n",
      "Total params: 1,086\n",
      "Trainable params: 1,086\n",
      "Non-trainable params: 0\n",
      "_________________________________________________________________\n"
     ]
    }
   ],
   "source": [
    "model.summary()  # tf.keras.utils.plot_model(model, show_shapes=True)"
   ]
  },
  {
   "cell_type": "code",
   "execution_count": 12,
   "metadata": {},
   "outputs": [],
   "source": [
    "# モデルチェックポイントのコールバック\n",
    "cp_callback = tf.keras.callbacks.ModelCheckpoint(\n",
    "    model_save_path, verbose=1, save_weights_only=False)\n",
    "# 早期打ち切り用コールバック\n",
    "es_callback = tf.keras.callbacks.EarlyStopping(patience=20, verbose=1)"
   ]
  },
  {
   "cell_type": "code",
   "execution_count": 13,
   "metadata": {},
   "outputs": [],
   "source": [
    "# モデルコンパイル\n",
    "model.compile(\n",
    "    optimizer='adam',\n",
    "    loss='sparse_categorical_crossentropy',\n",
    "    metrics=['accuracy']\n",
    ")"
   ]
  },
  {
   "cell_type": "markdown",
   "metadata": {},
   "source": [
    "# モデル訓練"
   ]
  },
  {
   "cell_type": "code",
   "execution_count": 14,
   "metadata": {
    "scrolled": true
   },
   "outputs": [
    {
     "name": "stdout",
     "output_type": "stream",
     "text": [
      "Epoch 1/1000\n",
      " 1/32 [..............................] - ETA: 19s - loss: 1.4049 - accuracy: 0.2266\n",
      "Epoch 1: saving model to model/point_history_classifier\\point_history_classifier.hdf5\n",
      "32/32 [==============================] - 1s 8ms/step - loss: 1.3848 - accuracy: 0.4494 - val_loss: 1.3661 - val_accuracy: 0.6299\n",
      "Epoch 2/1000\n",
      " 1/32 [..............................] - ETA: 0s - loss: 1.3742 - accuracy: 0.5078\n",
      "Epoch 2: saving model to model/point_history_classifier\\point_history_classifier.hdf5\n",
      "32/32 [==============================] - 0s 3ms/step - loss: 1.3630 - accuracy: 0.5365 - val_loss: 1.3480 - val_accuracy: 0.6261\n",
      "Epoch 3/1000\n",
      " 1/32 [..............................] - ETA: 0s - loss: 1.3465 - accuracy: 0.5547\n",
      "Epoch 3: saving model to model/point_history_classifier\\point_history_classifier.hdf5\n",
      "32/32 [==============================] - 0s 3ms/step - loss: 1.3437 - accuracy: 0.5408 - val_loss: 1.3257 - val_accuracy: 0.6269\n",
      "Epoch 4/1000\n",
      " 1/32 [..............................] - ETA: 0s - loss: 1.3290 - accuracy: 0.5469\n",
      "Epoch 4: saving model to model/point_history_classifier\\point_history_classifier.hdf5\n",
      "32/32 [==============================] - 0s 3ms/step - loss: 1.3173 - accuracy: 0.5534 - val_loss: 1.2975 - val_accuracy: 0.6246\n",
      "Epoch 5/1000\n",
      " 1/32 [..............................] - ETA: 0s - loss: 1.3004 - accuracy: 0.5859\n",
      "Epoch 5: saving model to model/point_history_classifier\\point_history_classifier.hdf5\n",
      "32/32 [==============================] - 0s 3ms/step - loss: 1.2875 - accuracy: 0.5607 - val_loss: 1.2616 - val_accuracy: 0.6027\n",
      "Epoch 6/1000\n",
      " 1/32 [..............................] - ETA: 0s - loss: 1.2737 - accuracy: 0.5078\n",
      "Epoch 6: saving model to model/point_history_classifier\\point_history_classifier.hdf5\n",
      "32/32 [==============================] - 0s 3ms/step - loss: 1.2516 - accuracy: 0.5712 - val_loss: 1.2190 - val_accuracy: 0.6276\n",
      "Epoch 7/1000\n",
      " 1/32 [..............................] - ETA: 0s - loss: 1.1887 - accuracy: 0.6250\n",
      "Epoch 7: saving model to model/point_history_classifier\\point_history_classifier.hdf5\n",
      "32/32 [==============================] - 0s 3ms/step - loss: 1.2130 - accuracy: 0.5813 - val_loss: 1.1686 - val_accuracy: 0.6518\n",
      "Epoch 8/1000\n",
      " 1/32 [..............................] - ETA: 0s - loss: 1.2092 - accuracy: 0.5547\n",
      "Epoch 8: saving model to model/point_history_classifier\\point_history_classifier.hdf5\n",
      "32/32 [==============================] - 0s 3ms/step - loss: 1.1680 - accuracy: 0.5924 - val_loss: 1.1161 - val_accuracy: 0.6918\n",
      "Epoch 9/1000\n",
      " 1/32 [..............................] - ETA: 0s - loss: 1.0936 - accuracy: 0.6719\n",
      "Epoch 9: saving model to model/point_history_classifier\\point_history_classifier.hdf5\n",
      "32/32 [==============================] - 0s 4ms/step - loss: 1.1200 - accuracy: 0.6070 - val_loss: 1.0582 - val_accuracy: 0.7296\n",
      "Epoch 10/1000\n",
      " 1/32 [..............................] - ETA: 0s - loss: 1.0708 - accuracy: 0.6484\n",
      "Epoch 10: saving model to model/point_history_classifier\\point_history_classifier.hdf5\n",
      "32/32 [==============================] - 0s 3ms/step - loss: 1.0728 - accuracy: 0.6302 - val_loss: 1.0000 - val_accuracy: 0.7447\n",
      "Epoch 11/1000\n",
      " 1/32 [..............................] - ETA: 0s - loss: 1.0523 - accuracy: 0.6094\n",
      "Epoch 11: saving model to model/point_history_classifier\\point_history_classifier.hdf5\n",
      "32/32 [==============================] - 0s 3ms/step - loss: 1.0234 - accuracy: 0.6468 - val_loss: 0.9406 - val_accuracy: 0.7923\n",
      "Epoch 12/1000\n",
      " 1/32 [..............................] - ETA: 0s - loss: 1.0311 - accuracy: 0.6172\n",
      "Epoch 12: saving model to model/point_history_classifier\\point_history_classifier.hdf5\n",
      "32/32 [==============================] - 0s 3ms/step - loss: 0.9847 - accuracy: 0.6508 - val_loss: 0.8855 - val_accuracy: 0.8225\n",
      "Epoch 13/1000\n",
      " 1/32 [..............................] - ETA: 0s - loss: 0.9810 - accuracy: 0.6484\n",
      "Epoch 13: saving model to model/point_history_classifier\\point_history_classifier.hdf5\n",
      "32/32 [==============================] - 0s 4ms/step - loss: 0.9365 - accuracy: 0.6850 - val_loss: 0.8329 - val_accuracy: 0.8399\n",
      "Epoch 14/1000\n",
      " 1/32 [..............................] - ETA: 0s - loss: 0.8549 - accuracy: 0.7891\n",
      "Epoch 14: saving model to model/point_history_classifier\\point_history_classifier.hdf5\n",
      "32/32 [==============================] - 0s 3ms/step - loss: 0.9005 - accuracy: 0.6850 - val_loss: 0.7823 - val_accuracy: 0.8625\n",
      "Epoch 15/1000\n",
      " 1/32 [..............................] - ETA: 0s - loss: 0.8658 - accuracy: 0.7266\n",
      "Epoch 15: saving model to model/point_history_classifier\\point_history_classifier.hdf5\n",
      "32/32 [==============================] - 0s 3ms/step - loss: 0.8729 - accuracy: 0.6916 - val_loss: 0.7390 - val_accuracy: 0.8716\n",
      "Epoch 16/1000\n",
      " 1/32 [..............................] - ETA: 0s - loss: 0.8653 - accuracy: 0.6797\n",
      "Epoch 16: saving model to model/point_history_classifier\\point_history_classifier.hdf5\n",
      "32/32 [==============================] - 0s 3ms/step - loss: 0.8356 - accuracy: 0.7054 - val_loss: 0.6960 - val_accuracy: 0.8799\n",
      "Epoch 17/1000\n",
      " 1/32 [..............................] - ETA: 0s - loss: 0.7981 - accuracy: 0.6797\n",
      "Epoch 17: saving model to model/point_history_classifier\\point_history_classifier.hdf5\n",
      "32/32 [==============================] - 0s 3ms/step - loss: 0.8042 - accuracy: 0.7090 - val_loss: 0.6570 - val_accuracy: 0.8950\n",
      "Epoch 18/1000\n",
      " 1/32 [..............................] - ETA: 0s - loss: 0.9072 - accuracy: 0.5859\n",
      "Epoch 18: saving model to model/point_history_classifier\\point_history_classifier.hdf5\n",
      "32/32 [==============================] - 0s 4ms/step - loss: 0.7885 - accuracy: 0.7165 - val_loss: 0.6225 - val_accuracy: 0.9041\n",
      "Epoch 19/1000\n",
      " 1/32 [..............................] - ETA: 0s - loss: 0.8368 - accuracy: 0.6797\n",
      "Epoch 19: saving model to model/point_history_classifier\\point_history_classifier.hdf5\n",
      "32/32 [==============================] - 0s 3ms/step - loss: 0.7592 - accuracy: 0.7213 - val_loss: 0.5925 - val_accuracy: 0.9041\n",
      "Epoch 20/1000\n",
      " 1/32 [..............................] - ETA: 0s - loss: 0.7680 - accuracy: 0.7031\n",
      "Epoch 20: saving model to model/point_history_classifier\\point_history_classifier.hdf5\n",
      "32/32 [==============================] - 0s 3ms/step - loss: 0.7368 - accuracy: 0.7294 - val_loss: 0.5643 - val_accuracy: 0.9131\n",
      "Epoch 21/1000\n",
      " 1/32 [..............................] - ETA: 0s - loss: 0.7360 - accuracy: 0.7188\n",
      "Epoch 21: saving model to model/point_history_classifier\\point_history_classifier.hdf5\n",
      "32/32 [==============================] - 0s 3ms/step - loss: 0.7167 - accuracy: 0.7314 - val_loss: 0.5358 - val_accuracy: 0.9192\n",
      "Epoch 22/1000\n",
      " 1/32 [..............................] - ETA: 0s - loss: 0.7284 - accuracy: 0.7578\n",
      "Epoch 22: saving model to model/point_history_classifier\\point_history_classifier.hdf5\n",
      "32/32 [==============================] - 0s 3ms/step - loss: 0.7083 - accuracy: 0.7346 - val_loss: 0.5155 - val_accuracy: 0.9267\n",
      "Epoch 23/1000\n",
      " 1/32 [..............................] - ETA: 0s - loss: 0.6433 - accuracy: 0.7969\n",
      "Epoch 23: saving model to model/point_history_classifier\\point_history_classifier.hdf5\n",
      "32/32 [==============================] - 0s 3ms/step - loss: 0.6963 - accuracy: 0.7470 - val_loss: 0.4977 - val_accuracy: 0.9313\n",
      "Epoch 24/1000\n",
      " 1/32 [..............................] - ETA: 0s - loss: 0.5936 - accuracy: 0.7812\n",
      "Epoch 24: saving model to model/point_history_classifier\\point_history_classifier.hdf5\n",
      "32/32 [==============================] - 0s 3ms/step - loss: 0.6898 - accuracy: 0.7364 - val_loss: 0.4828 - val_accuracy: 0.9396\n",
      "Epoch 25/1000\n",
      " 1/32 [..............................] - ETA: 0s - loss: 0.6825 - accuracy: 0.7578\n",
      "Epoch 25: saving model to model/point_history_classifier\\point_history_classifier.hdf5\n",
      "32/32 [==============================] - 0s 3ms/step - loss: 0.6688 - accuracy: 0.7598 - val_loss: 0.4687 - val_accuracy: 0.9366\n",
      "Epoch 26/1000\n",
      " 1/32 [..............................] - ETA: 0s - loss: 0.6115 - accuracy: 0.7891\n",
      "Epoch 26: saving model to model/point_history_classifier\\point_history_classifier.hdf5\n",
      "32/32 [==============================] - 0s 3ms/step - loss: 0.6479 - accuracy: 0.7613 - val_loss: 0.4504 - val_accuracy: 0.9441\n",
      "Epoch 27/1000\n"
     ]
    },
    {
     "name": "stdout",
     "output_type": "stream",
     "text": [
      " 1/32 [..............................] - ETA: 0s - loss: 0.7462 - accuracy: 0.7109\n",
      "Epoch 27: saving model to model/point_history_classifier\\point_history_classifier.hdf5\n",
      "32/32 [==============================] - 0s 3ms/step - loss: 0.6312 - accuracy: 0.7636 - val_loss: 0.4372 - val_accuracy: 0.9494\n",
      "Epoch 28/1000\n",
      " 1/32 [..............................] - ETA: 0s - loss: 0.6947 - accuracy: 0.8281\n",
      "Epoch 28: saving model to model/point_history_classifier\\point_history_classifier.hdf5\n",
      "32/32 [==============================] - 0s 3ms/step - loss: 0.6453 - accuracy: 0.7691 - val_loss: 0.4326 - val_accuracy: 0.9464\n",
      "Epoch 29/1000\n",
      " 1/32 [..............................] - ETA: 0s - loss: 0.6284 - accuracy: 0.7656\n",
      "Epoch 29: saving model to model/point_history_classifier\\point_history_classifier.hdf5\n",
      "32/32 [==============================] - 0s 3ms/step - loss: 0.6235 - accuracy: 0.7651 - val_loss: 0.4205 - val_accuracy: 0.9517\n",
      "Epoch 30/1000\n",
      " 1/32 [..............................] - ETA: 0s - loss: 0.5615 - accuracy: 0.8125\n",
      "Epoch 30: saving model to model/point_history_classifier\\point_history_classifier.hdf5\n",
      "32/32 [==============================] - 0s 3ms/step - loss: 0.6119 - accuracy: 0.7759 - val_loss: 0.4102 - val_accuracy: 0.9486\n",
      "Epoch 31/1000\n",
      " 1/32 [..............................] - ETA: 0s - loss: 0.5886 - accuracy: 0.8359\n",
      "Epoch 31: saving model to model/point_history_classifier\\point_history_classifier.hdf5\n",
      "32/32 [==============================] - 0s 3ms/step - loss: 0.6188 - accuracy: 0.7696 - val_loss: 0.4013 - val_accuracy: 0.9524\n",
      "Epoch 32/1000\n",
      " 1/32 [..............................] - ETA: 0s - loss: 0.5334 - accuracy: 0.7891\n",
      "Epoch 32: saving model to model/point_history_classifier\\point_history_classifier.hdf5\n",
      "32/32 [==============================] - 0s 3ms/step - loss: 0.5954 - accuracy: 0.7863 - val_loss: 0.3913 - val_accuracy: 0.9502\n",
      "Epoch 33/1000\n",
      " 1/32 [..............................] - ETA: 0s - loss: 0.6800 - accuracy: 0.7266\n",
      "Epoch 33: saving model to model/point_history_classifier\\point_history_classifier.hdf5\n",
      "32/32 [==============================] - 0s 3ms/step - loss: 0.6055 - accuracy: 0.7792 - val_loss: 0.3841 - val_accuracy: 0.9547\n",
      "Epoch 34/1000\n",
      " 1/32 [..............................] - ETA: 0s - loss: 0.6313 - accuracy: 0.7734\n",
      "Epoch 34: saving model to model/point_history_classifier\\point_history_classifier.hdf5\n",
      "32/32 [==============================] - 0s 3ms/step - loss: 0.6037 - accuracy: 0.7727 - val_loss: 0.3771 - val_accuracy: 0.9509\n",
      "Epoch 35/1000\n",
      " 1/32 [..............................] - ETA: 0s - loss: 0.6596 - accuracy: 0.7578\n",
      "Epoch 35: saving model to model/point_history_classifier\\point_history_classifier.hdf5\n",
      "32/32 [==============================] - 0s 3ms/step - loss: 0.6032 - accuracy: 0.7774 - val_loss: 0.3715 - val_accuracy: 0.9517\n",
      "Epoch 36/1000\n",
      " 1/32 [..............................] - ETA: 0s - loss: 0.5235 - accuracy: 0.7891\n",
      "Epoch 36: saving model to model/point_history_classifier\\point_history_classifier.hdf5\n",
      "32/32 [==============================] - 0s 3ms/step - loss: 0.5766 - accuracy: 0.7905 - val_loss: 0.3671 - val_accuracy: 0.9539\n",
      "Epoch 37/1000\n",
      " 1/32 [..............................] - ETA: 0s - loss: 0.5620 - accuracy: 0.7812\n",
      "Epoch 37: saving model to model/point_history_classifier\\point_history_classifier.hdf5\n",
      "32/32 [==============================] - 0s 3ms/step - loss: 0.5836 - accuracy: 0.7895 - val_loss: 0.3616 - val_accuracy: 0.9547\n",
      "Epoch 38/1000\n",
      " 1/32 [..............................] - ETA: 0s - loss: 0.5614 - accuracy: 0.8125\n",
      "Epoch 38: saving model to model/point_history_classifier\\point_history_classifier.hdf5\n",
      "32/32 [==============================] - 0s 3ms/step - loss: 0.5610 - accuracy: 0.7918 - val_loss: 0.3572 - val_accuracy: 0.9554\n",
      "Epoch 39/1000\n",
      " 1/32 [..............................] - ETA: 0s - loss: 0.5500 - accuracy: 0.7812\n",
      "Epoch 39: saving model to model/point_history_classifier\\point_history_classifier.hdf5\n",
      "32/32 [==============================] - 0s 3ms/step - loss: 0.5615 - accuracy: 0.7941 - val_loss: 0.3507 - val_accuracy: 0.9569\n",
      "Epoch 40/1000\n",
      " 1/32 [..............................] - ETA: 0s - loss: 0.4712 - accuracy: 0.8125\n",
      "Epoch 40: saving model to model/point_history_classifier\\point_history_classifier.hdf5\n",
      "32/32 [==============================] - 0s 3ms/step - loss: 0.5689 - accuracy: 0.7943 - val_loss: 0.3417 - val_accuracy: 0.9554\n",
      "Epoch 41/1000\n",
      " 1/32 [..............................] - ETA: 0s - loss: 0.6500 - accuracy: 0.7578\n",
      "Epoch 41: saving model to model/point_history_classifier\\point_history_classifier.hdf5\n",
      "32/32 [==============================] - 0s 3ms/step - loss: 0.5504 - accuracy: 0.8009 - val_loss: 0.3380 - val_accuracy: 0.9585\n",
      "Epoch 42/1000\n",
      " 1/32 [..............................] - ETA: 0s - loss: 0.5739 - accuracy: 0.7891\n",
      "Epoch 42: saving model to model/point_history_classifier\\point_history_classifier.hdf5\n",
      "32/32 [==============================] - 0s 3ms/step - loss: 0.5662 - accuracy: 0.7971 - val_loss: 0.3369 - val_accuracy: 0.9592\n",
      "Epoch 43/1000\n",
      " 1/32 [..............................] - ETA: 0s - loss: 0.5658 - accuracy: 0.7422\n",
      "Epoch 43: saving model to model/point_history_classifier\\point_history_classifier.hdf5\n",
      "32/32 [==============================] - 0s 3ms/step - loss: 0.5620 - accuracy: 0.7933 - val_loss: 0.3314 - val_accuracy: 0.9592\n",
      "Epoch 44/1000\n",
      " 1/32 [..............................] - ETA: 0s - loss: 0.6251 - accuracy: 0.7422\n",
      "Epoch 44: saving model to model/point_history_classifier\\point_history_classifier.hdf5\n",
      "32/32 [==============================] - 0s 3ms/step - loss: 0.5503 - accuracy: 0.7978 - val_loss: 0.3314 - val_accuracy: 0.9622\n",
      "Epoch 45/1000\n",
      " 1/32 [..............................] - ETA: 0s - loss: 0.6518 - accuracy: 0.7734\n",
      "Epoch 45: saving model to model/point_history_classifier\\point_history_classifier.hdf5\n",
      "32/32 [==============================] - 0s 3ms/step - loss: 0.5557 - accuracy: 0.8004 - val_loss: 0.3260 - val_accuracy: 0.9615\n",
      "Epoch 46/1000\n",
      " 1/32 [..............................] - ETA: 0s - loss: 0.5059 - accuracy: 0.7812\n",
      "Epoch 46: saving model to model/point_history_classifier\\point_history_classifier.hdf5\n",
      "32/32 [==============================] - 0s 3ms/step - loss: 0.5624 - accuracy: 0.7905 - val_loss: 0.3264 - val_accuracy: 0.9592\n",
      "Epoch 47/1000\n",
      " 1/32 [..............................] - ETA: 0s - loss: 0.5798 - accuracy: 0.8203\n",
      "Epoch 47: saving model to model/point_history_classifier\\point_history_classifier.hdf5\n",
      "32/32 [==============================] - 0s 3ms/step - loss: 0.5298 - accuracy: 0.8074 - val_loss: 0.3206 - val_accuracy: 0.9600\n",
      "Epoch 48/1000\n",
      " 1/32 [..............................] - ETA: 0s - loss: 0.3568 - accuracy: 0.8984\n",
      "Epoch 48: saving model to model/point_history_classifier\\point_history_classifier.hdf5\n",
      "32/32 [==============================] - 0s 3ms/step - loss: 0.5293 - accuracy: 0.8056 - val_loss: 0.3173 - val_accuracy: 0.9600\n",
      "Epoch 49/1000\n",
      " 1/32 [..............................] - ETA: 0s - loss: 0.5484 - accuracy: 0.8047\n",
      "Epoch 49: saving model to model/point_history_classifier\\point_history_classifier.hdf5\n",
      "32/32 [==============================] - 0s 3ms/step - loss: 0.5428 - accuracy: 0.7981 - val_loss: 0.3136 - val_accuracy: 0.9615\n",
      "Epoch 50/1000\n",
      " 1/32 [..............................] - ETA: 0s - loss: 0.4845 - accuracy: 0.8594\n",
      "Epoch 50: saving model to model/point_history_classifier\\point_history_classifier.hdf5\n",
      "32/32 [==============================] - 0s 3ms/step - loss: 0.5244 - accuracy: 0.8061 - val_loss: 0.3085 - val_accuracy: 0.9615\n",
      "Epoch 51/1000\n",
      " 1/32 [..............................] - ETA: 0s - loss: 0.5033 - accuracy: 0.8125\n",
      "Epoch 51: saving model to model/point_history_classifier\\point_history_classifier.hdf5\n",
      "32/32 [==============================] - 0s 3ms/step - loss: 0.5384 - accuracy: 0.8031 - val_loss: 0.3074 - val_accuracy: 0.9592\n",
      "Epoch 52/1000\n",
      " 1/32 [..............................] - ETA: 0s - loss: 0.4837 - accuracy: 0.8203\n",
      "Epoch 52: saving model to model/point_history_classifier\\point_history_classifier.hdf5\n",
      "32/32 [==============================] - 0s 3ms/step - loss: 0.5398 - accuracy: 0.8087 - val_loss: 0.3061 - val_accuracy: 0.9607\n",
      "Epoch 53/1000\n"
     ]
    },
    {
     "name": "stdout",
     "output_type": "stream",
     "text": [
      " 1/32 [..............................] - ETA: 0s - loss: 0.4617 - accuracy: 0.8359\n",
      "Epoch 53: saving model to model/point_history_classifier\\point_history_classifier.hdf5\n",
      "32/32 [==============================] - 0s 3ms/step - loss: 0.5261 - accuracy: 0.8066 - val_loss: 0.3034 - val_accuracy: 0.9607\n",
      "Epoch 54/1000\n",
      " 1/32 [..............................] - ETA: 0s - loss: 0.4635 - accuracy: 0.8203\n",
      "Epoch 54: saving model to model/point_history_classifier\\point_history_classifier.hdf5\n",
      "32/32 [==============================] - 0s 3ms/step - loss: 0.5366 - accuracy: 0.8089 - val_loss: 0.3000 - val_accuracy: 0.9592\n",
      "Epoch 55/1000\n",
      " 1/32 [..............................] - ETA: 0s - loss: 0.5968 - accuracy: 0.7812\n",
      "Epoch 55: saving model to model/point_history_classifier\\point_history_classifier.hdf5\n",
      "32/32 [==============================] - 0s 3ms/step - loss: 0.5398 - accuracy: 0.8046 - val_loss: 0.2999 - val_accuracy: 0.9600\n",
      "Epoch 56/1000\n",
      " 1/32 [..............................] - ETA: 0s - loss: 0.4899 - accuracy: 0.8438\n",
      "Epoch 56: saving model to model/point_history_classifier\\point_history_classifier.hdf5\n",
      "32/32 [==============================] - 0s 3ms/step - loss: 0.5434 - accuracy: 0.8039 - val_loss: 0.2999 - val_accuracy: 0.9600\n",
      "Epoch 57/1000\n",
      " 1/32 [..............................] - ETA: 0s - loss: 0.5175 - accuracy: 0.8672\n",
      "Epoch 57: saving model to model/point_history_classifier\\point_history_classifier.hdf5\n",
      "32/32 [==============================] - 0s 3ms/step - loss: 0.5218 - accuracy: 0.8089 - val_loss: 0.2998 - val_accuracy: 0.9592\n",
      "Epoch 58/1000\n",
      " 1/32 [..............................] - ETA: 0s - loss: 0.5601 - accuracy: 0.7891\n",
      "Epoch 58: saving model to model/point_history_classifier\\point_history_classifier.hdf5\n",
      "32/32 [==============================] - 0s 3ms/step - loss: 0.5067 - accuracy: 0.8162 - val_loss: 0.2972 - val_accuracy: 0.9592\n",
      "Epoch 59/1000\n",
      " 1/32 [..............................] - ETA: 0s - loss: 0.5994 - accuracy: 0.7734\n",
      "Epoch 59: saving model to model/point_history_classifier\\point_history_classifier.hdf5\n",
      "32/32 [==============================] - 0s 3ms/step - loss: 0.5066 - accuracy: 0.8114 - val_loss: 0.2929 - val_accuracy: 0.9585\n",
      "Epoch 60/1000\n",
      " 1/32 [..............................] - ETA: 0s - loss: 0.5276 - accuracy: 0.7969\n",
      "Epoch 60: saving model to model/point_history_classifier\\point_history_classifier.hdf5\n",
      "32/32 [==============================] - 0s 3ms/step - loss: 0.4925 - accuracy: 0.8175 - val_loss: 0.2887 - val_accuracy: 0.9577\n",
      "Epoch 61/1000\n",
      " 1/32 [..............................] - ETA: 0s - loss: 0.5005 - accuracy: 0.8125\n",
      "Epoch 61: saving model to model/point_history_classifier\\point_history_classifier.hdf5\n",
      "32/32 [==============================] - 0s 3ms/step - loss: 0.5148 - accuracy: 0.8094 - val_loss: 0.2888 - val_accuracy: 0.9622\n",
      "Epoch 62/1000\n",
      " 1/32 [..............................] - ETA: 0s - loss: 0.4910 - accuracy: 0.8438\n",
      "Epoch 62: saving model to model/point_history_classifier\\point_history_classifier.hdf5\n",
      "32/32 [==============================] - 0s 3ms/step - loss: 0.5054 - accuracy: 0.8170 - val_loss: 0.2854 - val_accuracy: 0.9592\n",
      "Epoch 63/1000\n",
      " 1/32 [..............................] - ETA: 0s - loss: 0.3312 - accuracy: 0.8906\n",
      "Epoch 63: saving model to model/point_history_classifier\\point_history_classifier.hdf5\n",
      "32/32 [==============================] - 0s 3ms/step - loss: 0.4904 - accuracy: 0.8139 - val_loss: 0.2810 - val_accuracy: 0.9600\n",
      "Epoch 64/1000\n",
      " 1/32 [..............................] - ETA: 0s - loss: 0.5911 - accuracy: 0.8047\n",
      "Epoch 64: saving model to model/point_history_classifier\\point_history_classifier.hdf5\n",
      "32/32 [==============================] - 0s 3ms/step - loss: 0.5208 - accuracy: 0.8142 - val_loss: 0.2829 - val_accuracy: 0.9607\n",
      "Epoch 65/1000\n",
      " 1/32 [..............................] - ETA: 0s - loss: 0.5217 - accuracy: 0.7812\n",
      "Epoch 65: saving model to model/point_history_classifier\\point_history_classifier.hdf5\n",
      "32/32 [==============================] - 0s 3ms/step - loss: 0.4929 - accuracy: 0.8160 - val_loss: 0.2778 - val_accuracy: 0.9592\n",
      "Epoch 66/1000\n",
      " 1/32 [..............................] - ETA: 0s - loss: 0.6078 - accuracy: 0.7812\n",
      "Epoch 66: saving model to model/point_history_classifier\\point_history_classifier.hdf5\n",
      "32/32 [==============================] - 0s 3ms/step - loss: 0.4999 - accuracy: 0.8187 - val_loss: 0.2754 - val_accuracy: 0.9607\n",
      "Epoch 67/1000\n",
      "32/32 [==============================] - ETA: 0s - loss: 0.4893 - accuracy: 0.8268\n",
      "Epoch 67: saving model to model/point_history_classifier\\point_history_classifier.hdf5\n",
      "32/32 [==============================] - 0s 3ms/step - loss: 0.4893 - accuracy: 0.8268 - val_loss: 0.2731 - val_accuracy: 0.9615\n",
      "Epoch 68/1000\n",
      " 1/32 [..............................] - ETA: 0s - loss: 0.3680 - accuracy: 0.8984\n",
      "Epoch 68: saving model to model/point_history_classifier\\point_history_classifier.hdf5\n",
      "32/32 [==============================] - 0s 3ms/step - loss: 0.4878 - accuracy: 0.8215 - val_loss: 0.2732 - val_accuracy: 0.9600\n",
      "Epoch 69/1000\n",
      " 1/32 [..............................] - ETA: 0s - loss: 0.5710 - accuracy: 0.8047\n",
      "Epoch 69: saving model to model/point_history_classifier\\point_history_classifier.hdf5\n",
      "32/32 [==============================] - 0s 3ms/step - loss: 0.4982 - accuracy: 0.8134 - val_loss: 0.2723 - val_accuracy: 0.9615\n",
      "Epoch 70/1000\n",
      " 1/32 [..............................] - ETA: 0s - loss: 0.6116 - accuracy: 0.7812\n",
      "Epoch 70: saving model to model/point_history_classifier\\point_history_classifier.hdf5\n",
      "32/32 [==============================] - 0s 3ms/step - loss: 0.5058 - accuracy: 0.8190 - val_loss: 0.2717 - val_accuracy: 0.9607\n",
      "Epoch 71/1000\n",
      " 1/32 [..............................] - ETA: 0s - loss: 0.5456 - accuracy: 0.8047\n",
      "Epoch 71: saving model to model/point_history_classifier\\point_history_classifier.hdf5\n",
      "32/32 [==============================] - 0s 3ms/step - loss: 0.4859 - accuracy: 0.8248 - val_loss: 0.2662 - val_accuracy: 0.9615\n",
      "Epoch 72/1000\n",
      " 1/32 [..............................] - ETA: 0s - loss: 0.4461 - accuracy: 0.8359\n",
      "Epoch 72: saving model to model/point_history_classifier\\point_history_classifier.hdf5\n",
      "32/32 [==============================] - 0s 3ms/step - loss: 0.4844 - accuracy: 0.8205 - val_loss: 0.2657 - val_accuracy: 0.9615\n",
      "Epoch 73/1000\n",
      " 1/32 [..............................] - ETA: 0s - loss: 0.4425 - accuracy: 0.8438\n",
      "Epoch 73: saving model to model/point_history_classifier\\point_history_classifier.hdf5\n",
      "32/32 [==============================] - 0s 3ms/step - loss: 0.4724 - accuracy: 0.8265 - val_loss: 0.2650 - val_accuracy: 0.9615\n",
      "Epoch 74/1000\n",
      "28/32 [=========================>....] - ETA: 0s - loss: 0.4894 - accuracy: 0.8164\n",
      "Epoch 74: saving model to model/point_history_classifier\\point_history_classifier.hdf5\n",
      "32/32 [==============================] - 0s 4ms/step - loss: 0.4892 - accuracy: 0.8177 - val_loss: 0.2636 - val_accuracy: 0.9600\n",
      "Epoch 75/1000\n",
      " 1/32 [..............................] - ETA: 0s - loss: 0.5597 - accuracy: 0.7734\n",
      "Epoch 75: saving model to model/point_history_classifier\\point_history_classifier.hdf5\n",
      "32/32 [==============================] - 0s 3ms/step - loss: 0.4845 - accuracy: 0.8270 - val_loss: 0.2598 - val_accuracy: 0.9607\n",
      "Epoch 76/1000\n",
      " 1/32 [..............................] - ETA: 0s - loss: 0.4505 - accuracy: 0.8359\n",
      "Epoch 76: saving model to model/point_history_classifier\\point_history_classifier.hdf5\n",
      "32/32 [==============================] - 0s 3ms/step - loss: 0.4762 - accuracy: 0.8200 - val_loss: 0.2581 - val_accuracy: 0.9600\n",
      "Epoch 77/1000\n",
      " 1/32 [..............................] - ETA: 0s - loss: 0.5722 - accuracy: 0.8281\n",
      "Epoch 77: saving model to model/point_history_classifier\\point_history_classifier.hdf5\n",
      "32/32 [==============================] - 0s 3ms/step - loss: 0.4896 - accuracy: 0.8187 - val_loss: 0.2601 - val_accuracy: 0.9585\n",
      "Epoch 78/1000\n",
      " 1/32 [..............................] - ETA: 0s - loss: 0.3394 - accuracy: 0.8516\n",
      "Epoch 78: saving model to model/point_history_classifier\\point_history_classifier.hdf5\n",
      "32/32 [==============================] - 0s 3ms/step - loss: 0.4599 - accuracy: 0.8326 - val_loss: 0.2560 - val_accuracy: 0.9607\n",
      "Epoch 79/1000\n"
     ]
    },
    {
     "name": "stdout",
     "output_type": "stream",
     "text": [
      " 1/32 [..............................] - ETA: 0s - loss: 0.5055 - accuracy: 0.8516\n",
      "Epoch 79: saving model to model/point_history_classifier\\point_history_classifier.hdf5\n",
      "32/32 [==============================] - 0s 3ms/step - loss: 0.4857 - accuracy: 0.8263 - val_loss: 0.2548 - val_accuracy: 0.9622\n",
      "Epoch 80/1000\n",
      " 1/32 [..............................] - ETA: 0s - loss: 0.3836 - accuracy: 0.8281\n",
      "Epoch 80: saving model to model/point_history_classifier\\point_history_classifier.hdf5\n",
      "32/32 [==============================] - 0s 3ms/step - loss: 0.4755 - accuracy: 0.8202 - val_loss: 0.2544 - val_accuracy: 0.9615\n",
      "Epoch 81/1000\n",
      " 1/32 [..............................] - ETA: 0s - loss: 0.4904 - accuracy: 0.7969\n",
      "Epoch 81: saving model to model/point_history_classifier\\point_history_classifier.hdf5\n",
      "32/32 [==============================] - 0s 3ms/step - loss: 0.4808 - accuracy: 0.8278 - val_loss: 0.2548 - val_accuracy: 0.9630\n",
      "Epoch 82/1000\n",
      " 1/32 [..............................] - ETA: 0s - loss: 0.4320 - accuracy: 0.8203\n",
      "Epoch 82: saving model to model/point_history_classifier\\point_history_classifier.hdf5\n",
      "32/32 [==============================] - 0s 3ms/step - loss: 0.4799 - accuracy: 0.8200 - val_loss: 0.2531 - val_accuracy: 0.9645\n",
      "Epoch 83/1000\n",
      " 1/32 [..............................] - ETA: 0s - loss: 0.4786 - accuracy: 0.7812\n",
      "Epoch 83: saving model to model/point_history_classifier\\point_history_classifier.hdf5\n",
      "32/32 [==============================] - 0s 3ms/step - loss: 0.4865 - accuracy: 0.8235 - val_loss: 0.2565 - val_accuracy: 0.9645\n",
      "Epoch 84/1000\n",
      " 1/32 [..............................] - ETA: 0s - loss: 0.3746 - accuracy: 0.8984\n",
      "Epoch 84: saving model to model/point_history_classifier\\point_history_classifier.hdf5\n",
      "32/32 [==============================] - 0s 3ms/step - loss: 0.4755 - accuracy: 0.8301 - val_loss: 0.2545 - val_accuracy: 0.9615\n",
      "Epoch 85/1000\n",
      " 1/32 [..............................] - ETA: 0s - loss: 0.5594 - accuracy: 0.7578\n",
      "Epoch 85: saving model to model/point_history_classifier\\point_history_classifier.hdf5\n",
      "32/32 [==============================] - 0s 3ms/step - loss: 0.4667 - accuracy: 0.8306 - val_loss: 0.2535 - val_accuracy: 0.9622\n",
      "Epoch 86/1000\n",
      " 1/32 [..............................] - ETA: 0s - loss: 0.4323 - accuracy: 0.8516\n",
      "Epoch 86: saving model to model/point_history_classifier\\point_history_classifier.hdf5\n",
      "32/32 [==============================] - 0s 3ms/step - loss: 0.4553 - accuracy: 0.8313 - val_loss: 0.2504 - val_accuracy: 0.9615\n",
      "Epoch 87/1000\n",
      " 1/32 [..............................] - ETA: 0s - loss: 0.5541 - accuracy: 0.7969\n",
      "Epoch 87: saving model to model/point_history_classifier\\point_history_classifier.hdf5\n",
      "32/32 [==============================] - 0s 3ms/step - loss: 0.4780 - accuracy: 0.8303 - val_loss: 0.2494 - val_accuracy: 0.9630\n",
      "Epoch 88/1000\n",
      " 1/32 [..............................] - ETA: 0s - loss: 0.5121 - accuracy: 0.7969\n",
      "Epoch 88: saving model to model/point_history_classifier\\point_history_classifier.hdf5\n",
      "32/32 [==============================] - 0s 3ms/step - loss: 0.4580 - accuracy: 0.8353 - val_loss: 0.2499 - val_accuracy: 0.9630\n",
      "Epoch 89/1000\n",
      " 1/32 [..............................] - ETA: 0s - loss: 0.4551 - accuracy: 0.8281\n",
      "Epoch 89: saving model to model/point_history_classifier\\point_history_classifier.hdf5\n",
      "32/32 [==============================] - 0s 3ms/step - loss: 0.4840 - accuracy: 0.8288 - val_loss: 0.2500 - val_accuracy: 0.9630\n",
      "Epoch 90/1000\n",
      " 1/32 [..............................] - ETA: 0s - loss: 0.3378 - accuracy: 0.9219\n",
      "Epoch 90: saving model to model/point_history_classifier\\point_history_classifier.hdf5\n",
      "32/32 [==============================] - 0s 3ms/step - loss: 0.4791 - accuracy: 0.8288 - val_loss: 0.2494 - val_accuracy: 0.9615\n",
      "Epoch 91/1000\n",
      " 1/32 [..............................] - ETA: 0s - loss: 0.4284 - accuracy: 0.8750\n",
      "Epoch 91: saving model to model/point_history_classifier\\point_history_classifier.hdf5\n",
      "32/32 [==============================] - 0s 3ms/step - loss: 0.4581 - accuracy: 0.8369 - val_loss: 0.2515 - val_accuracy: 0.9622\n",
      "Epoch 92/1000\n",
      " 1/32 [..............................] - ETA: 0s - loss: 0.4192 - accuracy: 0.8750\n",
      "Epoch 92: saving model to model/point_history_classifier\\point_history_classifier.hdf5\n",
      "32/32 [==============================] - 0s 3ms/step - loss: 0.4609 - accuracy: 0.8376 - val_loss: 0.2496 - val_accuracy: 0.9630\n",
      "Epoch 93/1000\n",
      " 1/32 [..............................] - ETA: 0s - loss: 0.4817 - accuracy: 0.8203\n",
      "Epoch 93: saving model to model/point_history_classifier\\point_history_classifier.hdf5\n",
      "32/32 [==============================] - 0s 3ms/step - loss: 0.4648 - accuracy: 0.8374 - val_loss: 0.2476 - val_accuracy: 0.9622\n",
      "Epoch 94/1000\n",
      " 1/32 [..............................] - ETA: 0s - loss: 0.5059 - accuracy: 0.8125\n",
      "Epoch 94: saving model to model/point_history_classifier\\point_history_classifier.hdf5\n",
      "32/32 [==============================] - 0s 3ms/step - loss: 0.4710 - accuracy: 0.8321 - val_loss: 0.2474 - val_accuracy: 0.9645\n",
      "Epoch 95/1000\n",
      " 1/32 [..............................] - ETA: 0s - loss: 0.4452 - accuracy: 0.8203\n",
      "Epoch 95: saving model to model/point_history_classifier\\point_history_classifier.hdf5\n",
      "32/32 [==============================] - 0s 3ms/step - loss: 0.4589 - accuracy: 0.8348 - val_loss: 0.2446 - val_accuracy: 0.9630\n",
      "Epoch 96/1000\n",
      " 1/32 [..............................] - ETA: 0s - loss: 0.5428 - accuracy: 0.7812\n",
      "Epoch 96: saving model to model/point_history_classifier\\point_history_classifier.hdf5\n",
      "32/32 [==============================] - 0s 3ms/step - loss: 0.4487 - accuracy: 0.8364 - val_loss: 0.2416 - val_accuracy: 0.9622\n",
      "Epoch 97/1000\n",
      " 1/32 [..............................] - ETA: 0s - loss: 0.5906 - accuracy: 0.7969\n",
      "Epoch 97: saving model to model/point_history_classifier\\point_history_classifier.hdf5\n",
      "32/32 [==============================] - 0s 3ms/step - loss: 0.4633 - accuracy: 0.8389 - val_loss: 0.2425 - val_accuracy: 0.9630\n",
      "Epoch 98/1000\n",
      " 1/32 [..............................] - ETA: 0s - loss: 0.3895 - accuracy: 0.8516\n",
      "Epoch 98: saving model to model/point_history_classifier\\point_history_classifier.hdf5\n",
      "32/32 [==============================] - 0s 3ms/step - loss: 0.4512 - accuracy: 0.8477 - val_loss: 0.2428 - val_accuracy: 0.9637\n",
      "Epoch 99/1000\n",
      " 1/32 [..............................] - ETA: 0s - loss: 0.4572 - accuracy: 0.8438\n",
      "Epoch 99: saving model to model/point_history_classifier\\point_history_classifier.hdf5\n",
      "32/32 [==============================] - 0s 3ms/step - loss: 0.4641 - accuracy: 0.8449 - val_loss: 0.2423 - val_accuracy: 0.9653\n",
      "Epoch 100/1000\n",
      " 1/32 [..............................] - ETA: 0s - loss: 0.3149 - accuracy: 0.8750\n",
      "Epoch 100: saving model to model/point_history_classifier\\point_history_classifier.hdf5\n",
      "32/32 [==============================] - 0s 3ms/step - loss: 0.4523 - accuracy: 0.8414 - val_loss: 0.2407 - val_accuracy: 0.9645\n",
      "Epoch 101/1000\n",
      " 1/32 [..............................] - ETA: 0s - loss: 0.4637 - accuracy: 0.8516\n",
      "Epoch 101: saving model to model/point_history_classifier\\point_history_classifier.hdf5\n",
      "32/32 [==============================] - 0s 3ms/step - loss: 0.4824 - accuracy: 0.8311 - val_loss: 0.2433 - val_accuracy: 0.9630\n",
      "Epoch 102/1000\n",
      " 1/32 [..............................] - ETA: 0s - loss: 0.4664 - accuracy: 0.8047\n",
      "Epoch 102: saving model to model/point_history_classifier\\point_history_classifier.hdf5\n",
      "32/32 [==============================] - 0s 3ms/step - loss: 0.4507 - accuracy: 0.8429 - val_loss: 0.2409 - val_accuracy: 0.9630\n",
      "Epoch 103/1000\n",
      " 1/32 [..............................] - ETA: 0s - loss: 0.4295 - accuracy: 0.8516\n",
      "Epoch 103: saving model to model/point_history_classifier\\point_history_classifier.hdf5\n",
      "32/32 [==============================] - 0s 3ms/step - loss: 0.4545 - accuracy: 0.8338 - val_loss: 0.2421 - val_accuracy: 0.9645\n",
      "Epoch 104/1000\n",
      " 1/32 [..............................] - ETA: 0s - loss: 0.3039 - accuracy: 0.8828\n",
      "Epoch 104: saving model to model/point_history_classifier\\point_history_classifier.hdf5\n",
      "32/32 [==============================] - 0s 3ms/step - loss: 0.4395 - accuracy: 0.8409 - val_loss: 0.2377 - val_accuracy: 0.9630\n",
      "Epoch 105/1000\n"
     ]
    },
    {
     "name": "stdout",
     "output_type": "stream",
     "text": [
      " 1/32 [..............................] - ETA: 0s - loss: 0.3631 - accuracy: 0.8516\n",
      "Epoch 105: saving model to model/point_history_classifier\\point_history_classifier.hdf5\n",
      "32/32 [==============================] - 0s 3ms/step - loss: 0.4549 - accuracy: 0.8346 - val_loss: 0.2367 - val_accuracy: 0.9630\n",
      "Epoch 106/1000\n",
      " 1/32 [..............................] - ETA: 0s - loss: 0.4380 - accuracy: 0.8672\n",
      "Epoch 106: saving model to model/point_history_classifier\\point_history_classifier.hdf5\n",
      "32/32 [==============================] - 0s 3ms/step - loss: 0.4503 - accuracy: 0.8381 - val_loss: 0.2374 - val_accuracy: 0.9637\n",
      "Epoch 107/1000\n",
      " 1/32 [..............................] - ETA: 0s - loss: 0.4882 - accuracy: 0.8594\n",
      "Epoch 107: saving model to model/point_history_classifier\\point_history_classifier.hdf5\n",
      "32/32 [==============================] - 0s 3ms/step - loss: 0.4596 - accuracy: 0.8321 - val_loss: 0.2364 - val_accuracy: 0.9645\n",
      "Epoch 108/1000\n",
      " 1/32 [..............................] - ETA: 0s - loss: 0.4527 - accuracy: 0.8125\n",
      "Epoch 108: saving model to model/point_history_classifier\\point_history_classifier.hdf5\n",
      "32/32 [==============================] - 0s 3ms/step - loss: 0.4643 - accuracy: 0.8268 - val_loss: 0.2373 - val_accuracy: 0.9637\n",
      "Epoch 109/1000\n",
      " 1/32 [..............................] - ETA: 0s - loss: 0.4523 - accuracy: 0.8438\n",
      "Epoch 109: saving model to model/point_history_classifier\\point_history_classifier.hdf5\n",
      "32/32 [==============================] - 0s 3ms/step - loss: 0.4647 - accuracy: 0.8260 - val_loss: 0.2378 - val_accuracy: 0.9660\n",
      "Epoch 110/1000\n",
      " 1/32 [..............................] - ETA: 0s - loss: 0.4528 - accuracy: 0.8281\n",
      "Epoch 110: saving model to model/point_history_classifier\\point_history_classifier.hdf5\n",
      "32/32 [==============================] - 0s 3ms/step - loss: 0.4391 - accuracy: 0.8437 - val_loss: 0.2347 - val_accuracy: 0.9653\n",
      "Epoch 111/1000\n",
      " 1/32 [..............................] - ETA: 0s - loss: 0.5893 - accuracy: 0.7500\n",
      "Epoch 111: saving model to model/point_history_classifier\\point_history_classifier.hdf5\n",
      "32/32 [==============================] - 0s 3ms/step - loss: 0.4356 - accuracy: 0.8384 - val_loss: 0.2330 - val_accuracy: 0.9645\n",
      "Epoch 112/1000\n",
      " 1/32 [..............................] - ETA: 0s - loss: 0.3917 - accuracy: 0.8594\n",
      "Epoch 112: saving model to model/point_history_classifier\\point_history_classifier.hdf5\n",
      "32/32 [==============================] - 0s 3ms/step - loss: 0.4381 - accuracy: 0.8432 - val_loss: 0.2349 - val_accuracy: 0.9637\n",
      "Epoch 113/1000\n",
      " 1/32 [..............................] - ETA: 0s - loss: 0.4451 - accuracy: 0.8516\n",
      "Epoch 113: saving model to model/point_history_classifier\\point_history_classifier.hdf5\n",
      "32/32 [==============================] - 0s 3ms/step - loss: 0.4619 - accuracy: 0.8414 - val_loss: 0.2369 - val_accuracy: 0.9668\n",
      "Epoch 114/1000\n",
      " 1/32 [..............................] - ETA: 0s - loss: 0.4122 - accuracy: 0.8438\n",
      "Epoch 114: saving model to model/point_history_classifier\\point_history_classifier.hdf5\n",
      "32/32 [==============================] - 0s 3ms/step - loss: 0.4606 - accuracy: 0.8351 - val_loss: 0.2345 - val_accuracy: 0.9653\n",
      "Epoch 115/1000\n",
      " 1/32 [..............................] - ETA: 0s - loss: 0.4863 - accuracy: 0.7891\n",
      "Epoch 115: saving model to model/point_history_classifier\\point_history_classifier.hdf5\n",
      "32/32 [==============================] - 0s 3ms/step - loss: 0.4497 - accuracy: 0.8353 - val_loss: 0.2369 - val_accuracy: 0.9653\n",
      "Epoch 116/1000\n",
      " 1/32 [..............................] - ETA: 0s - loss: 0.4894 - accuracy: 0.7812\n",
      "Epoch 116: saving model to model/point_history_classifier\\point_history_classifier.hdf5\n",
      "32/32 [==============================] - 0s 3ms/step - loss: 0.4409 - accuracy: 0.8459 - val_loss: 0.2338 - val_accuracy: 0.9645\n",
      "Epoch 117/1000\n",
      " 1/32 [..............................] - ETA: 0s - loss: 0.5029 - accuracy: 0.8125\n",
      "Epoch 117: saving model to model/point_history_classifier\\point_history_classifier.hdf5\n",
      "32/32 [==============================] - 0s 3ms/step - loss: 0.4539 - accuracy: 0.8346 - val_loss: 0.2364 - val_accuracy: 0.9675\n",
      "Epoch 118/1000\n",
      " 1/32 [..............................] - ETA: 0s - loss: 1.0235 - accuracy: 0.7734\n",
      "Epoch 118: saving model to model/point_history_classifier\\point_history_classifier.hdf5\n",
      "32/32 [==============================] - 0s 3ms/step - loss: 0.4730 - accuracy: 0.8311 - val_loss: 0.2336 - val_accuracy: 0.9675\n",
      "Epoch 119/1000\n",
      " 1/32 [..............................] - ETA: 0s - loss: 0.5179 - accuracy: 0.8047\n",
      "Epoch 119: saving model to model/point_history_classifier\\point_history_classifier.hdf5\n",
      "32/32 [==============================] - 0s 3ms/step - loss: 0.4332 - accuracy: 0.8442 - val_loss: 0.2309 - val_accuracy: 0.9653\n",
      "Epoch 120/1000\n",
      " 1/32 [..............................] - ETA: 0s - loss: 0.5604 - accuracy: 0.7891\n",
      "Epoch 120: saving model to model/point_history_classifier\\point_history_classifier.hdf5\n",
      "32/32 [==============================] - 0s 3ms/step - loss: 0.4374 - accuracy: 0.8379 - val_loss: 0.2334 - val_accuracy: 0.9675\n",
      "Epoch 121/1000\n",
      " 1/32 [..............................] - ETA: 0s - loss: 0.5238 - accuracy: 0.8359\n",
      "Epoch 121: saving model to model/point_history_classifier\\point_history_classifier.hdf5\n",
      "32/32 [==============================] - 0s 3ms/step - loss: 0.4530 - accuracy: 0.8384 - val_loss: 0.2317 - val_accuracy: 0.9675\n",
      "Epoch 122/1000\n",
      " 1/32 [..............................] - ETA: 0s - loss: 0.5219 - accuracy: 0.8281\n",
      "Epoch 122: saving model to model/point_history_classifier\\point_history_classifier.hdf5\n",
      "32/32 [==============================] - 0s 3ms/step - loss: 0.4551 - accuracy: 0.8389 - val_loss: 0.2333 - val_accuracy: 0.9653\n",
      "Epoch 123/1000\n",
      " 1/32 [..............................] - ETA: 0s - loss: 0.4583 - accuracy: 0.8359\n",
      "Epoch 123: saving model to model/point_history_classifier\\point_history_classifier.hdf5\n",
      "32/32 [==============================] - 0s 3ms/step - loss: 0.4655 - accuracy: 0.8356 - val_loss: 0.2331 - val_accuracy: 0.9660\n",
      "Epoch 124/1000\n",
      " 1/32 [..............................] - ETA: 0s - loss: 0.4471 - accuracy: 0.8750\n",
      "Epoch 124: saving model to model/point_history_classifier\\point_history_classifier.hdf5\n",
      "32/32 [==============================] - 0s 3ms/step - loss: 0.4492 - accuracy: 0.8369 - val_loss: 0.2333 - val_accuracy: 0.9637\n",
      "Epoch 125/1000\n",
      " 1/32 [..............................] - ETA: 0s - loss: 0.4789 - accuracy: 0.8359\n",
      "Epoch 125: saving model to model/point_history_classifier\\point_history_classifier.hdf5\n",
      "32/32 [==============================] - 0s 3ms/step - loss: 0.4395 - accuracy: 0.8429 - val_loss: 0.2331 - val_accuracy: 0.9645\n",
      "Epoch 126/1000\n",
      " 1/32 [..............................] - ETA: 0s - loss: 0.4013 - accuracy: 0.8516\n",
      "Epoch 126: saving model to model/point_history_classifier\\point_history_classifier.hdf5\n",
      "32/32 [==============================] - 0s 3ms/step - loss: 0.4512 - accuracy: 0.8381 - val_loss: 0.2327 - val_accuracy: 0.9653\n",
      "Epoch 127/1000\n",
      " 1/32 [..............................] - ETA: 0s - loss: 0.4016 - accuracy: 0.8438\n",
      "Epoch 127: saving model to model/point_history_classifier\\point_history_classifier.hdf5\n",
      "32/32 [==============================] - 0s 3ms/step - loss: 0.4416 - accuracy: 0.8437 - val_loss: 0.2312 - val_accuracy: 0.9653\n",
      "Epoch 128/1000\n",
      " 1/32 [..............................] - ETA: 0s - loss: 0.3814 - accuracy: 0.8359\n",
      "Epoch 128: saving model to model/point_history_classifier\\point_history_classifier.hdf5\n",
      "32/32 [==============================] - 0s 3ms/step - loss: 0.4265 - accuracy: 0.8447 - val_loss: 0.2269 - val_accuracy: 0.9637\n",
      "Epoch 129/1000\n",
      " 1/32 [..............................] - ETA: 0s - loss: 0.4860 - accuracy: 0.8516\n",
      "Epoch 129: saving model to model/point_history_classifier\\point_history_classifier.hdf5\n",
      "32/32 [==============================] - 0s 3ms/step - loss: 0.4360 - accuracy: 0.8404 - val_loss: 0.2276 - val_accuracy: 0.9645\n",
      "Epoch 130/1000\n",
      " 1/32 [..............................] - ETA: 0s - loss: 0.3621 - accuracy: 0.8594\n",
      "Epoch 130: saving model to model/point_history_classifier\\point_history_classifier.hdf5\n",
      "32/32 [==============================] - 0s 3ms/step - loss: 0.4171 - accuracy: 0.8565 - val_loss: 0.2292 - val_accuracy: 0.9645\n",
      "Epoch 131/1000\n"
     ]
    },
    {
     "name": "stdout",
     "output_type": "stream",
     "text": [
      " 1/32 [..............................] - ETA: 0s - loss: 0.3435 - accuracy: 0.8828\n",
      "Epoch 131: saving model to model/point_history_classifier\\point_history_classifier.hdf5\n",
      "32/32 [==============================] - 0s 3ms/step - loss: 0.4221 - accuracy: 0.8532 - val_loss: 0.2280 - val_accuracy: 0.9653\n",
      "Epoch 132/1000\n",
      " 1/32 [..............................] - ETA: 0s - loss: 0.4622 - accuracy: 0.8125\n",
      "Epoch 132: saving model to model/point_history_classifier\\point_history_classifier.hdf5\n",
      "32/32 [==============================] - 0s 3ms/step - loss: 0.4370 - accuracy: 0.8462 - val_loss: 0.2275 - val_accuracy: 0.9645\n",
      "Epoch 133/1000\n",
      " 1/32 [..............................] - ETA: 0s - loss: 0.3459 - accuracy: 0.8672\n",
      "Epoch 133: saving model to model/point_history_classifier\\point_history_classifier.hdf5\n",
      "32/32 [==============================] - 0s 3ms/step - loss: 0.4340 - accuracy: 0.8467 - val_loss: 0.2255 - val_accuracy: 0.9690\n",
      "Epoch 134/1000\n",
      " 1/32 [..............................] - ETA: 0s - loss: 0.3775 - accuracy: 0.8516\n",
      "Epoch 134: saving model to model/point_history_classifier\\point_history_classifier.hdf5\n",
      "32/32 [==============================] - 0s 3ms/step - loss: 0.4046 - accuracy: 0.8588 - val_loss: 0.2224 - val_accuracy: 0.9668\n",
      "Epoch 135/1000\n",
      " 1/32 [..............................] - ETA: 0s - loss: 0.5786 - accuracy: 0.8125\n",
      "Epoch 135: saving model to model/point_history_classifier\\point_history_classifier.hdf5\n",
      "32/32 [==============================] - 0s 3ms/step - loss: 0.4256 - accuracy: 0.8515 - val_loss: 0.2235 - val_accuracy: 0.9690\n",
      "Epoch 136/1000\n",
      " 1/32 [..............................] - ETA: 0s - loss: 0.4392 - accuracy: 0.8125\n",
      "Epoch 136: saving model to model/point_history_classifier\\point_history_classifier.hdf5\n",
      "32/32 [==============================] - 0s 3ms/step - loss: 0.4331 - accuracy: 0.8442 - val_loss: 0.2212 - val_accuracy: 0.9660\n",
      "Epoch 137/1000\n",
      " 1/32 [..............................] - ETA: 0s - loss: 0.3880 - accuracy: 0.8359\n",
      "Epoch 137: saving model to model/point_history_classifier\\point_history_classifier.hdf5\n",
      "32/32 [==============================] - 0s 3ms/step - loss: 0.4281 - accuracy: 0.8479 - val_loss: 0.2221 - val_accuracy: 0.9675\n",
      "Epoch 138/1000\n",
      " 1/32 [..............................] - ETA: 0s - loss: 0.5222 - accuracy: 0.8359\n",
      "Epoch 138: saving model to model/point_history_classifier\\point_history_classifier.hdf5\n",
      "32/32 [==============================] - 0s 3ms/step - loss: 0.4266 - accuracy: 0.8442 - val_loss: 0.2216 - val_accuracy: 0.9660\n",
      "Epoch 139/1000\n",
      " 1/32 [..............................] - ETA: 0s - loss: 0.3765 - accuracy: 0.8672\n",
      "Epoch 139: saving model to model/point_history_classifier\\point_history_classifier.hdf5\n",
      "32/32 [==============================] - 0s 3ms/step - loss: 0.4352 - accuracy: 0.8419 - val_loss: 0.2229 - val_accuracy: 0.9645\n",
      "Epoch 140/1000\n",
      " 1/32 [..............................] - ETA: 0s - loss: 0.4637 - accuracy: 0.8516\n",
      "Epoch 140: saving model to model/point_history_classifier\\point_history_classifier.hdf5\n",
      "32/32 [==============================] - 0s 3ms/step - loss: 0.4252 - accuracy: 0.8464 - val_loss: 0.2229 - val_accuracy: 0.9653\n",
      "Epoch 141/1000\n",
      " 1/32 [..............................] - ETA: 0s - loss: 0.4697 - accuracy: 0.8359\n",
      "Epoch 141: saving model to model/point_history_classifier\\point_history_classifier.hdf5\n",
      "32/32 [==============================] - 0s 3ms/step - loss: 0.4459 - accuracy: 0.8399 - val_loss: 0.2258 - val_accuracy: 0.9698\n",
      "Epoch 142/1000\n",
      " 1/32 [..............................] - ETA: 0s - loss: 0.4481 - accuracy: 0.7969\n",
      "Epoch 142: saving model to model/point_history_classifier\\point_history_classifier.hdf5\n",
      "32/32 [==============================] - 0s 3ms/step - loss: 0.4215 - accuracy: 0.8464 - val_loss: 0.2245 - val_accuracy: 0.9668\n",
      "Epoch 143/1000\n",
      " 1/32 [..............................] - ETA: 0s - loss: 0.3981 - accuracy: 0.9062\n",
      "Epoch 143: saving model to model/point_history_classifier\\point_history_classifier.hdf5\n",
      "32/32 [==============================] - 0s 3ms/step - loss: 0.4349 - accuracy: 0.8439 - val_loss: 0.2207 - val_accuracy: 0.9690\n",
      "Epoch 144/1000\n",
      " 1/32 [..............................] - ETA: 0s - loss: 0.4795 - accuracy: 0.8672\n",
      "Epoch 144: saving model to model/point_history_classifier\\point_history_classifier.hdf5\n",
      "32/32 [==============================] - 0s 3ms/step - loss: 0.4393 - accuracy: 0.8414 - val_loss: 0.2244 - val_accuracy: 0.9690\n",
      "Epoch 145/1000\n",
      " 1/32 [..............................] - ETA: 0s - loss: 0.5057 - accuracy: 0.8359\n",
      "Epoch 145: saving model to model/point_history_classifier\\point_history_classifier.hdf5\n",
      "32/32 [==============================] - 0s 3ms/step - loss: 0.4311 - accuracy: 0.8530 - val_loss: 0.2223 - val_accuracy: 0.9690\n",
      "Epoch 146/1000\n",
      " 1/32 [..............................] - ETA: 0s - loss: 0.3281 - accuracy: 0.8828\n",
      "Epoch 146: saving model to model/point_history_classifier\\point_history_classifier.hdf5\n",
      "32/32 [==============================] - 0s 3ms/step - loss: 0.4418 - accuracy: 0.8454 - val_loss: 0.2219 - val_accuracy: 0.9690\n",
      "Epoch 147/1000\n",
      " 1/32 [..............................] - ETA: 0s - loss: 0.4138 - accuracy: 0.8828\n",
      "Epoch 147: saving model to model/point_history_classifier\\point_history_classifier.hdf5\n",
      "32/32 [==============================] - 0s 3ms/step - loss: 0.4356 - accuracy: 0.8452 - val_loss: 0.2284 - val_accuracy: 0.9698\n",
      "Epoch 148/1000\n",
      " 1/32 [..............................] - ETA: 0s - loss: 0.4240 - accuracy: 0.8516\n",
      "Epoch 148: saving model to model/point_history_classifier\\point_history_classifier.hdf5\n",
      "32/32 [==============================] - 0s 3ms/step - loss: 0.4429 - accuracy: 0.8389 - val_loss: 0.2246 - val_accuracy: 0.9698\n",
      "Epoch 149/1000\n",
      " 1/32 [..............................] - ETA: 0s - loss: 0.4307 - accuracy: 0.8672\n",
      "Epoch 149: saving model to model/point_history_classifier\\point_history_classifier.hdf5\n",
      "32/32 [==============================] - 0s 3ms/step - loss: 0.4312 - accuracy: 0.8479 - val_loss: 0.2229 - val_accuracy: 0.9705\n",
      "Epoch 150/1000\n",
      " 1/32 [..............................] - ETA: 0s - loss: 0.4228 - accuracy: 0.8359\n",
      "Epoch 150: saving model to model/point_history_classifier\\point_history_classifier.hdf5\n",
      "32/32 [==============================] - 0s 3ms/step - loss: 0.4260 - accuracy: 0.8469 - val_loss: 0.2226 - val_accuracy: 0.9713\n",
      "Epoch 151/1000\n",
      " 1/32 [..............................] - ETA: 0s - loss: 0.4627 - accuracy: 0.8516\n",
      "Epoch 151: saving model to model/point_history_classifier\\point_history_classifier.hdf5\n",
      "32/32 [==============================] - 0s 3ms/step - loss: 0.4295 - accuracy: 0.8426 - val_loss: 0.2286 - val_accuracy: 0.9690\n",
      "Epoch 152/1000\n",
      " 1/32 [..............................] - ETA: 0s - loss: 0.3221 - accuracy: 0.8672\n",
      "Epoch 152: saving model to model/point_history_classifier\\point_history_classifier.hdf5\n",
      "32/32 [==============================] - 0s 3ms/step - loss: 0.4418 - accuracy: 0.8439 - val_loss: 0.2251 - val_accuracy: 0.9675\n",
      "Epoch 153/1000\n",
      " 1/32 [..............................] - ETA: 0s - loss: 0.3747 - accuracy: 0.8516\n",
      "Epoch 153: saving model to model/point_history_classifier\\point_history_classifier.hdf5\n",
      "32/32 [==============================] - 0s 3ms/step - loss: 0.4321 - accuracy: 0.8437 - val_loss: 0.2248 - val_accuracy: 0.9683\n",
      "Epoch 154/1000\n",
      " 1/32 [..............................] - ETA: 0s - loss: 0.3847 - accuracy: 0.8438\n",
      "Epoch 154: saving model to model/point_history_classifier\\point_history_classifier.hdf5\n",
      "32/32 [==============================] - 0s 3ms/step - loss: 0.4322 - accuracy: 0.8499 - val_loss: 0.2269 - val_accuracy: 0.9690\n",
      "Epoch 155/1000\n",
      " 1/32 [..............................] - ETA: 0s - loss: 0.4533 - accuracy: 0.8359\n",
      "Epoch 155: saving model to model/point_history_classifier\\point_history_classifier.hdf5\n",
      "32/32 [==============================] - 0s 3ms/step - loss: 0.4093 - accuracy: 0.8517 - val_loss: 0.2240 - val_accuracy: 0.9675\n",
      "Epoch 156/1000\n",
      " 1/32 [..............................] - ETA: 0s - loss: 0.3972 - accuracy: 0.8438\n",
      "Epoch 156: saving model to model/point_history_classifier\\point_history_classifier.hdf5\n",
      "32/32 [==============================] - 0s 3ms/step - loss: 0.4204 - accuracy: 0.8477 - val_loss: 0.2246 - val_accuracy: 0.9675\n",
      "Epoch 157/1000\n"
     ]
    },
    {
     "name": "stdout",
     "output_type": "stream",
     "text": [
      " 1/32 [..............................] - ETA: 0s - loss: 0.5569 - accuracy: 0.7891\n",
      "Epoch 157: saving model to model/point_history_classifier\\point_history_classifier.hdf5\n",
      "32/32 [==============================] - 0s 3ms/step - loss: 0.4276 - accuracy: 0.8457 - val_loss: 0.2269 - val_accuracy: 0.9705\n",
      "Epoch 158/1000\n",
      " 1/32 [..............................] - ETA: 0s - loss: 0.5168 - accuracy: 0.8125\n",
      "Epoch 158: saving model to model/point_history_classifier\\point_history_classifier.hdf5\n",
      "32/32 [==============================] - 0s 3ms/step - loss: 0.4270 - accuracy: 0.8474 - val_loss: 0.2245 - val_accuracy: 0.9721\n",
      "Epoch 159/1000\n",
      " 1/32 [..............................] - ETA: 0s - loss: 0.5232 - accuracy: 0.8672\n",
      "Epoch 159: saving model to model/point_history_classifier\\point_history_classifier.hdf5\n",
      "32/32 [==============================] - 0s 3ms/step - loss: 0.4235 - accuracy: 0.8497 - val_loss: 0.2252 - val_accuracy: 0.9668\n",
      "Epoch 160/1000\n",
      " 1/32 [..............................] - ETA: 0s - loss: 0.4134 - accuracy: 0.8203\n",
      "Epoch 160: saving model to model/point_history_classifier\\point_history_classifier.hdf5\n",
      "32/32 [==============================] - 0s 3ms/step - loss: 0.4138 - accuracy: 0.8502 - val_loss: 0.2230 - val_accuracy: 0.9683\n",
      "Epoch 161/1000\n",
      " 1/32 [..............................] - ETA: 0s - loss: 0.5123 - accuracy: 0.8281\n",
      "Epoch 161: saving model to model/point_history_classifier\\point_history_classifier.hdf5\n",
      "32/32 [==============================] - 0s 3ms/step - loss: 0.4399 - accuracy: 0.8464 - val_loss: 0.2235 - val_accuracy: 0.9690\n",
      "Epoch 162/1000\n",
      " 1/32 [..............................] - ETA: 0s - loss: 0.4848 - accuracy: 0.7891\n",
      "Epoch 162: saving model to model/point_history_classifier\\point_history_classifier.hdf5\n",
      "32/32 [==============================] - 0s 3ms/step - loss: 0.4280 - accuracy: 0.8517 - val_loss: 0.2256 - val_accuracy: 0.9698\n",
      "Epoch 163/1000\n",
      " 1/32 [..............................] - ETA: 0s - loss: 0.4478 - accuracy: 0.8281\n",
      "Epoch 163: saving model to model/point_history_classifier\\point_history_classifier.hdf5\n",
      "32/32 [==============================] - 0s 3ms/step - loss: 0.4286 - accuracy: 0.8459 - val_loss: 0.2240 - val_accuracy: 0.9690\n",
      "Epoch 163: early stopping\n"
     ]
    },
    {
     "data": {
      "text/plain": [
       "<keras.callbacks.History at 0x26f6e1e6f40>"
      ]
     },
     "execution_count": 14,
     "metadata": {},
     "output_type": "execute_result"
    }
   ],
   "source": [
    "model.fit(\n",
    "    X_train,\n",
    "    y_train,\n",
    "    epochs=1000,\n",
    "    batch_size=128,\n",
    "    validation_data=(X_test, y_test),\n",
    "    callbacks=[cp_callback, es_callback]\n",
    ")"
   ]
  },
  {
   "cell_type": "code",
   "execution_count": 15,
   "metadata": {},
   "outputs": [],
   "source": [
    "# 保存したモデルのロード\n",
    "model = tf.keras.models.load_model(model_save_path)"
   ]
  },
  {
   "cell_type": "code",
   "execution_count": 16,
   "metadata": {},
   "outputs": [
    {
     "name": "stdout",
     "output_type": "stream",
     "text": [
      "1/1 [==============================] - 0s 81ms/step\n",
      "[0.93221694 0.02254633 0.01471029 0.03052655]\n",
      "0\n"
     ]
    }
   ],
   "source": [
    "# 推論テスト\n",
    "predict_result = model.predict(np.array([X_test[0]]))\n",
    "print(np.squeeze(predict_result))\n",
    "print(np.argmax(np.squeeze(predict_result)))"
   ]
  },
  {
   "cell_type": "markdown",
   "metadata": {},
   "source": [
    "# 混同行列"
   ]
  },
  {
   "cell_type": "code",
   "execution_count": 17,
   "metadata": {},
   "outputs": [
    {
     "name": "stdout",
     "output_type": "stream",
     "text": [
      "42/42 [==============================] - 0s 837us/step\n"
     ]
    },
    {
     "data": {
      "image/png": "[encoded data removed]",
      "text/plain": [
       "<Figure size 700x600 with 2 Axes>"
      ]
     },
     "metadata": {},
     "output_type": "display_data"
    },
    {
     "name": "stdout",
     "output_type": "stream",
     "text": [
      "Classification Report\n",
      "              precision    recall  f1-score   support\n",
      "\n",
      "           0       0.99      1.00      0.99       395\n",
      "           1       0.96      0.97      0.97       295\n",
      "           2       0.95      0.99      0.97       307\n",
      "           3       0.97      0.91      0.94       327\n",
      "\n",
      "    accuracy                           0.97      1324\n",
      "   macro avg       0.97      0.97      0.97      1324\n",
      "weighted avg       0.97      0.97      0.97      1324\n",
      "\n"
     ]
    }
   ],
   "source": [
    "import pandas as pd\n",
    "import seaborn as sns\n",
    "import matplotlib.pyplot as plt\n",
    "from sklearn.metrics import confusion_matrix, classification_report\n",
    "\n",
    "def print_confusion_matrix(y_true, y_pred, report=True):\n",
    "    labels = sorted(list(set(y_true)))\n",
    "    cmx_data = confusion_matrix(y_true, y_pred, labels=labels)\n",
    "    \n",
    "    df_cmx = pd.DataFrame(cmx_data, index=labels, columns=labels)\n",
    " \n",
    "    fig, ax = plt.subplots(figsize=(7, 6))\n",
    "    sns.heatmap(df_cmx, annot=True, fmt='g' ,square=False)\n",
    "    ax.set_ylim(len(set(y_true)), 0)\n",
    "    plt.show()\n",
    "    \n",
    "    if report:\n",
    "        print('Classification Report')\n",
    "        print(classification_report(y_test, y_pred))\n",
    "\n",
    "Y_pred = model.predict(X_test)\n",
    "y_pred = np.argmax(Y_pred, axis=1)\n",
    "\n",
    "print_confusion_matrix(y_test, y_pred)"
   ]
  },
  {
   "cell_type": "markdown",
   "metadata": {},
   "source": [
    "# Tensorflow-Lite用のモデルへ変換"
   ]
  },
  {
   "cell_type": "code",
   "execution_count": 18,
   "metadata": {},
   "outputs": [
    {
     "name": "stdout",
     "output_type": "stream",
     "text": [
      "WARNING:tensorflow:No training configuration found in the save file, so the model was *not* compiled. Compile it manually.\n"
     ]
    }
   ],
   "source": [
    "# 推論専用のモデルとして保存\n",
    "model.save(model_save_path, include_optimizer=False)\n",
    "model = tf.keras.models.load_model(model_save_path)"
   ]
  },
  {
   "cell_type": "code",
   "execution_count": 21,
   "metadata": {},
   "outputs": [],
   "source": [
    "tflite_save_path = 'model/point_history_classifier/point_history_classifier.tflite'"
   ]
  },
  {
   "cell_type": "code",
   "execution_count": 22,
   "metadata": {},
   "outputs": [
    {
     "name": "stdout",
     "output_type": "stream",
     "text": [
      "INFO:tensorflow:Assets written to: C:\\Users\\asus\\AppData\\Local\\Temp\\tmpgnq_ow6v\\assets\n"
     ]
    },
    {
     "name": "stderr",
     "output_type": "stream",
     "text": [
      "INFO:tensorflow:Assets written to: C:\\Users\\asus\\AppData\\Local\\Temp\\tmpgnq_ow6v\\assets\n"
     ]
    },
    {
     "data": {
      "text/plain": [
       "6432"
      ]
     },
     "execution_count": 22,
     "metadata": {},
     "output_type": "execute_result"
    }
   ],
   "source": [
    "# モデルを変換(量子化\n",
    "converter = tf.lite.TFLiteConverter.from_keras_model(model)  # converter = tf.lite.TFLiteConverter.from_saved_model(saved_model_path)\n",
    "converter.optimizations = [tf.lite.Optimize.DEFAULT]\n",
    "tflite_quantized_model = converter.convert()\n",
    "\n",
    "open(tflite_save_path, 'wb').write(tflite_quantized_model)"
   ]
  },
  {
   "cell_type": "markdown",
   "metadata": {},
   "source": [
    "# 推論テスト"
   ]
  },
  {
   "cell_type": "code",
   "execution_count": 23,
   "metadata": {},
   "outputs": [],
   "source": [
    "interpreter = tf.lite.Interpreter(model_path=tflite_save_path)\n",
    "interpreter.allocate_tensors()"
   ]
  },
  {
   "cell_type": "code",
   "execution_count": 24,
   "metadata": {},
   "outputs": [
    {
     "name": "stdout",
     "output_type": "stream",
     "text": [
      "[{'name': 'serving_default_input_1:0', 'index': 0, 'shape': array([ 1, 32]), 'shape_signature': array([-1, 32]), 'dtype': <class 'numpy.float32'>, 'quantization': (0.0, 0), 'quantization_parameters': {'scales': array([], dtype=float32), 'zero_points': array([], dtype=int32), 'quantized_dimension': 0}, 'sparsity_parameters': {}}]\n"
     ]
    }
   ],
   "source": [
    "# 入出力テンソルを取得\n",
    "input_details = interpreter.get_input_details()\n",
    "output_details = interpreter.get_output_details()\n",
    "print(input_details)"
   ]
  },
  {
   "cell_type": "code",
   "execution_count": 25,
   "metadata": {},
   "outputs": [],
   "source": [
    "interpreter.set_tensor(input_details[0]['index'], np.array([X_test[0]]))"
   ]
  },
  {
   "cell_type": "code",
   "execution_count": 26,
   "metadata": {},
   "outputs": [
    {
     "name": "stdout",
     "output_type": "stream",
     "text": [
      "Wall time: 1.99 ms\n"
     ]
    }
   ],
   "source": [
    "%%time\n",
    "# 推論実施\n",
    "interpreter.invoke()\n",
    "tflite_results = interpreter.get_tensor(output_details[0]['index'])"
   ]
  },
  {
   "cell_type": "code",
   "execution_count": 27,
   "metadata": {},
   "outputs": [
    {
     "name": "stdout",
     "output_type": "stream",
     "text": [
      "[0.93221694 0.02254633 0.0147103  0.03052655]\n",
      "0\n"
     ]
    }
   ],
   "source": [
    "print(np.squeeze(tflite_results))\n",
    "print(np.argmax(np.squeeze(tflite_results)))"
   ]
  },
  {
   "cell_type": "code",
   "execution_count": null,
   "metadata": {},
   "outputs": [],
   "source": []
  }
 ],
 "metadata": {
  "kernelspec": {
   "display_name": "Python 3 (ipykernel)",
   "language": "python",
   "name": "python3"
  },
  "language_info": {
   "codemirror_mode": {
    "name": "ipython",
    "version": 3
   },
   "file_extension": ".py",
   "mimetype": "text/x-python",
   "name": "python",
   "nbconvert_exporter": "python",
   "pygments_lexer": "ipython3",
   "version": "3.9.13"
  }
 },
 "nbformat": 4,
 "nbformat_minor": 4
}
